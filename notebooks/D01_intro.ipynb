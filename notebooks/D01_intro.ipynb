{
 "cells": [
  {
   "cell_type": "code",
   "execution_count": 3,
   "id": "e756f764",
   "metadata": {},
   "outputs": [
    {
     "data": {
      "text/html": [
       "<div>\n",
       "<style scoped>\n",
       "    .dataframe tbody tr th:only-of-type {\n",
       "        vertical-align: middle;\n",
       "    }\n",
       "\n",
       "    .dataframe tbody tr th {\n",
       "        vertical-align: top;\n",
       "    }\n",
       "\n",
       "    .dataframe thead th {\n",
       "        text-align: right;\n",
       "    }\n",
       "</style>\n",
       "<table border=\"1\" class=\"dataframe\">\n",
       "  <thead>\n",
       "    <tr style=\"text-align: right;\">\n",
       "      <th></th>\n",
       "      <th>customer_id</th>\n",
       "      <th>name</th>\n",
       "      <th>age</th>\n",
       "      <th>city</th>\n",
       "      <th>spent_usd</th>\n",
       "      <th>joined_at</th>\n",
       "    </tr>\n",
       "  </thead>\n",
       "  <tbody>\n",
       "    <tr>\n",
       "      <th>0</th>\n",
       "      <td>101</td>\n",
       "      <td>Ana</td>\n",
       "      <td>28</td>\n",
       "      <td>Warsaw</td>\n",
       "      <td>120.50</td>\n",
       "      <td>2024-03-15</td>\n",
       "    </tr>\n",
       "    <tr>\n",
       "      <th>1</th>\n",
       "      <td>102</td>\n",
       "      <td>Ben</td>\n",
       "      <td>41</td>\n",
       "      <td>Krakow</td>\n",
       "      <td>89.90</td>\n",
       "      <td>2023-11-02</td>\n",
       "    </tr>\n",
       "    <tr>\n",
       "      <th>2</th>\n",
       "      <td>103</td>\n",
       "      <td>Cam</td>\n",
       "      <td>33</td>\n",
       "      <td>Gdansk</td>\n",
       "      <td>NaN</td>\n",
       "      <td>2024-01-08</td>\n",
       "    </tr>\n",
       "    <tr>\n",
       "      <th>3</th>\n",
       "      <td>104</td>\n",
       "      <td>Dor</td>\n",
       "      <td>28</td>\n",
       "      <td>Warsaw</td>\n",
       "      <td>220.00</td>\n",
       "      <td>2023-12-21</td>\n",
       "    </tr>\n",
       "    <tr>\n",
       "      <th>4</th>\n",
       "      <td>105</td>\n",
       "      <td>Eli</td>\n",
       "      <td>52</td>\n",
       "      <td>Wroclaw</td>\n",
       "      <td>310.75</td>\n",
       "      <td>2022-07-30</td>\n",
       "    </tr>\n",
       "  </tbody>\n",
       "</table>\n",
       "</div>"
      ],
      "text/plain": [
       "   customer_id name  age     city  spent_usd   joined_at\n",
       "0          101  Ana   28   Warsaw     120.50  2024-03-15\n",
       "1          102  Ben   41   Krakow      89.90  2023-11-02\n",
       "2          103  Cam   33   Gdansk        NaN  2024-01-08\n",
       "3          104  Dor   28   Warsaw     220.00  2023-12-21\n",
       "4          105  Eli   52  Wroclaw     310.75  2022-07-30"
      ]
     },
     "execution_count": 3,
     "metadata": {},
     "output_type": "execute_result"
    }
   ],
   "source": [
    "import pandas as pd\n",
    "from pathlib import Path\n",
    "\n",
    "DATA = Path(\"../data/customers.csv\")\n",
    "\n",
    "df = pd.read_csv(DATA)\n",
    "df.head()"
   ]
  },
  {
   "cell_type": "code",
   "execution_count": 5,
   "id": "17925a95",
   "metadata": {},
   "outputs": [
    {
     "data": {
      "text/html": [
       "<div>\n",
       "<style scoped>\n",
       "    .dataframe tbody tr th:only-of-type {\n",
       "        vertical-align: middle;\n",
       "    }\n",
       "\n",
       "    .dataframe tbody tr th {\n",
       "        vertical-align: top;\n",
       "    }\n",
       "\n",
       "    .dataframe thead th {\n",
       "        text-align: right;\n",
       "    }\n",
       "</style>\n",
       "<table border=\"1\" class=\"dataframe\">\n",
       "  <thead>\n",
       "    <tr style=\"text-align: right;\">\n",
       "      <th></th>\n",
       "      <th>customer_id</th>\n",
       "      <th>name</th>\n",
       "      <th>age</th>\n",
       "      <th>city</th>\n",
       "      <th>spent_usd</th>\n",
       "      <th>joined_at</th>\n",
       "    </tr>\n",
       "  </thead>\n",
       "  <tbody>\n",
       "    <tr>\n",
       "      <th>2</th>\n",
       "      <td>103</td>\n",
       "      <td>Cam</td>\n",
       "      <td>33</td>\n",
       "      <td>Gdansk</td>\n",
       "      <td>NaN</td>\n",
       "      <td>2024-01-08</td>\n",
       "    </tr>\n",
       "    <tr>\n",
       "      <th>3</th>\n",
       "      <td>104</td>\n",
       "      <td>Dor</td>\n",
       "      <td>28</td>\n",
       "      <td>Warsaw</td>\n",
       "      <td>220.00</td>\n",
       "      <td>2023-12-21</td>\n",
       "    </tr>\n",
       "    <tr>\n",
       "      <th>4</th>\n",
       "      <td>105</td>\n",
       "      <td>Eli</td>\n",
       "      <td>52</td>\n",
       "      <td>Wroclaw</td>\n",
       "      <td>310.75</td>\n",
       "      <td>2022-07-30</td>\n",
       "    </tr>\n",
       "  </tbody>\n",
       "</table>\n",
       "</div>"
      ],
      "text/plain": [
       "   customer_id name  age     city  spent_usd   joined_at\n",
       "2          103  Cam   33   Gdansk        NaN  2024-01-08\n",
       "3          104  Dor   28   Warsaw     220.00  2023-12-21\n",
       "4          105  Eli   52  Wroclaw     310.75  2022-07-30"
      ]
     },
     "execution_count": 5,
     "metadata": {},
     "output_type": "execute_result"
    }
   ],
   "source": [
    "df.tail(3)"
   ]
  },
  {
   "cell_type": "code",
   "execution_count": 6,
   "id": "f451e43b",
   "metadata": {},
   "outputs": [
    {
     "data": {
      "text/plain": [
       "(5, 6)"
      ]
     },
     "execution_count": 6,
     "metadata": {},
     "output_type": "execute_result"
    }
   ],
   "source": [
    "df.shape"
   ]
  },
  {
   "cell_type": "code",
   "execution_count": 7,
   "id": "ee9e5838",
   "metadata": {},
   "outputs": [
    {
     "data": {
      "text/plain": [
       "Index(['customer_id', 'name', 'age', 'city', 'spent_usd', 'joined_at'], dtype='object')"
      ]
     },
     "execution_count": 7,
     "metadata": {},
     "output_type": "execute_result"
    }
   ],
   "source": [
    "df.columns"
   ]
  },
  {
   "cell_type": "code",
   "execution_count": 8,
   "id": "14cbfb20",
   "metadata": {},
   "outputs": [
    {
     "data": {
      "text/plain": [
       "customer_id      int64\n",
       "name            object\n",
       "age              int64\n",
       "city            object\n",
       "spent_usd      float64\n",
       "joined_at       object\n",
       "dtype: object"
      ]
     },
     "execution_count": 8,
     "metadata": {},
     "output_type": "execute_result"
    }
   ],
   "source": [
    "df.dtypes"
   ]
  },
  {
   "cell_type": "code",
   "execution_count": 9,
   "id": "5ab8645b",
   "metadata": {},
   "outputs": [
    {
     "name": "stdout",
     "output_type": "stream",
     "text": [
      "<class 'pandas.core.frame.DataFrame'>\n",
      "RangeIndex: 5 entries, 0 to 4\n",
      "Data columns (total 6 columns):\n",
      " #   Column       Non-Null Count  Dtype  \n",
      "---  ------       --------------  -----  \n",
      " 0   customer_id  5 non-null      int64  \n",
      " 1   name         5 non-null      object \n",
      " 2   age          5 non-null      int64  \n",
      " 3   city         5 non-null      object \n",
      " 4   spent_usd    4 non-null      float64\n",
      " 5   joined_at    5 non-null      object \n",
      "dtypes: float64(1), int64(2), object(3)\n",
      "memory usage: 372.0+ bytes\n"
     ]
    }
   ],
   "source": [
    "df.info()"
   ]
  },
  {
   "cell_type": "code",
   "execution_count": 11,
   "id": "ea3886d6",
   "metadata": {},
   "outputs": [
    {
     "data": {
      "text/plain": [
       "np.int64(1)"
      ]
     },
     "execution_count": 11,
     "metadata": {},
     "output_type": "execute_result"
    }
   ],
   "source": [
    "df[\"city\"].value_counts()\n",
    "df[\"age\"].min(), df[\"age\"].max(), df[\"age\"].mean()\n",
    "df[\"spent_usd\"].isna().sum()\n"
   ]
  },
  {
   "cell_type": "code",
   "execution_count": 12,
   "id": "b2c014ea",
   "metadata": {},
   "outputs": [
    {
     "data": {
      "text/plain": [
       "np.int64(1)"
      ]
     },
     "execution_count": 12,
     "metadata": {},
     "output_type": "execute_result"
    }
   ],
   "source": [
    "df[\"city\"].value_counts()\n",
    "df[\"age\"].min(), df[\"age\"].max(), df[\"age\"].mean()\n",
    "df[\"spent_usd\"].isna().sum()"
   ]
  },
  {
   "cell_type": "code",
   "execution_count": 13,
   "id": "cd71273e",
   "metadata": {},
   "outputs": [
    {
     "name": "stdout",
     "output_type": "stream",
     "text": [
      "pandas: 2.3.1\n",
      "python: c:\\Users\\dmdem\\Documents\\etl-streamlit\\day01_intro_pandas\\.venv\\Scripts\\python.exe\n"
     ]
    }
   ],
   "source": [
    "import sys, pandas as pd\n",
    "print(\"pandas:\", pd.__version__)\n",
    "print(\"python:\", sys.executable)"
   ]
  },
  {
   "cell_type": "code",
   "execution_count": 3,
   "id": "d16312b5",
   "metadata": {},
   "outputs": [
    {
     "name": "stdout",
     "output_type": "stream",
     "text": [
      "CWD: c:\\Users\\dmdem\\Documents\\etl-streamlit\\day01_intro_pandas\\notebooks\n"
     ]
    },
    {
     "data": {
      "text/html": [
       "<div>\n",
       "<style scoped>\n",
       "    .dataframe tbody tr th:only-of-type {\n",
       "        vertical-align: middle;\n",
       "    }\n",
       "\n",
       "    .dataframe tbody tr th {\n",
       "        vertical-align: top;\n",
       "    }\n",
       "\n",
       "    .dataframe thead th {\n",
       "        text-align: right;\n",
       "    }\n",
       "</style>\n",
       "<table border=\"1\" class=\"dataframe\">\n",
       "  <thead>\n",
       "    <tr style=\"text-align: right;\">\n",
       "      <th></th>\n",
       "      <th>customer_id</th>\n",
       "      <th>name</th>\n",
       "      <th>age</th>\n",
       "      <th>city</th>\n",
       "      <th>spent_usd</th>\n",
       "      <th>joined_at</th>\n",
       "    </tr>\n",
       "  </thead>\n",
       "  <tbody>\n",
       "    <tr>\n",
       "      <th>0</th>\n",
       "      <td>101</td>\n",
       "      <td>Ana</td>\n",
       "      <td>28</td>\n",
       "      <td>Warsaw</td>\n",
       "      <td>120.50</td>\n",
       "      <td>2024-03-15</td>\n",
       "    </tr>\n",
       "    <tr>\n",
       "      <th>1</th>\n",
       "      <td>102</td>\n",
       "      <td>Ben</td>\n",
       "      <td>41</td>\n",
       "      <td>Krakow</td>\n",
       "      <td>89.90</td>\n",
       "      <td>2023-11-02</td>\n",
       "    </tr>\n",
       "    <tr>\n",
       "      <th>2</th>\n",
       "      <td>103</td>\n",
       "      <td>Cam</td>\n",
       "      <td>33</td>\n",
       "      <td>Gdansk</td>\n",
       "      <td>NaN</td>\n",
       "      <td>2024-01-08</td>\n",
       "    </tr>\n",
       "    <tr>\n",
       "      <th>3</th>\n",
       "      <td>104</td>\n",
       "      <td>Dor</td>\n",
       "      <td>28</td>\n",
       "      <td>Warsaw</td>\n",
       "      <td>220.00</td>\n",
       "      <td>2023-12-21</td>\n",
       "    </tr>\n",
       "    <tr>\n",
       "      <th>4</th>\n",
       "      <td>105</td>\n",
       "      <td>Eli</td>\n",
       "      <td>52</td>\n",
       "      <td>Wroclaw</td>\n",
       "      <td>310.75</td>\n",
       "      <td>2022-07-30</td>\n",
       "    </tr>\n",
       "  </tbody>\n",
       "</table>\n",
       "</div>"
      ],
      "text/plain": [
       "   customer_id name  age     city  spent_usd   joined_at\n",
       "0          101  Ana   28   Warsaw     120.50  2024-03-15\n",
       "1          102  Ben   41   Krakow      89.90  2023-11-02\n",
       "2          103  Cam   33   Gdansk        NaN  2024-01-08\n",
       "3          104  Dor   28   Warsaw     220.00  2023-12-21\n",
       "4          105  Eli   52  Wroclaw     310.75  2022-07-30"
      ]
     },
     "execution_count": 3,
     "metadata": {},
     "output_type": "execute_result"
    }
   ],
   "source": [
    "import pandas as pd\n",
    "from pathlib import Path\n",
    "\n",
    "# sprawdź aktualny folder roboczy (opcjonalnie)\n",
    "import os; print(\"CWD:\", os.getcwd())\n",
    "\n",
    "# ścieżka do pliku – popraw, jeśli Twój CSV leży gdzie indziej\n",
    "DATA = Path(\"../data/customers.csv\")\n",
    "\n",
    "df = pd.read_csv(DATA)\n",
    "\n",
    "# upewnij się, że kolumny liczbowe są naprawdę liczbami\n",
    "for col in [\"age\", \"spent_usd\"]:\n",
    "    if col in df.columns:\n",
    "        df[col] = pd.to_numeric(df[col], errors=\"coerce\")\n",
    "\n",
    "df.head()"
   ]
  },
  {
   "cell_type": "code",
   "execution_count": 6,
   "id": "116b5120",
   "metadata": {},
   "outputs": [
    {
     "data": {
      "text/html": [
       "<div>\n",
       "<style scoped>\n",
       "    .dataframe tbody tr th:only-of-type {\n",
       "        vertical-align: middle;\n",
       "    }\n",
       "\n",
       "    .dataframe tbody tr th {\n",
       "        vertical-align: top;\n",
       "    }\n",
       "\n",
       "    .dataframe thead th {\n",
       "        text-align: right;\n",
       "    }\n",
       "</style>\n",
       "<table border=\"1\" class=\"dataframe\">\n",
       "  <thead>\n",
       "    <tr style=\"text-align: right;\">\n",
       "      <th></th>\n",
       "      <th>customer_id</th>\n",
       "      <th>age</th>\n",
       "      <th>spent_usd</th>\n",
       "    </tr>\n",
       "  </thead>\n",
       "  <tbody>\n",
       "    <tr>\n",
       "      <th>count</th>\n",
       "      <td>5.000000</td>\n",
       "      <td>5.000000</td>\n",
       "      <td>4.00000</td>\n",
       "    </tr>\n",
       "    <tr>\n",
       "      <th>mean</th>\n",
       "      <td>103.000000</td>\n",
       "      <td>36.400000</td>\n",
       "      <td>185.28750</td>\n",
       "    </tr>\n",
       "    <tr>\n",
       "      <th>std</th>\n",
       "      <td>1.581139</td>\n",
       "      <td>10.212737</td>\n",
       "      <td>100.40251</td>\n",
       "    </tr>\n",
       "    <tr>\n",
       "      <th>min</th>\n",
       "      <td>101.000000</td>\n",
       "      <td>28.000000</td>\n",
       "      <td>89.90000</td>\n",
       "    </tr>\n",
       "    <tr>\n",
       "      <th>25%</th>\n",
       "      <td>102.000000</td>\n",
       "      <td>28.000000</td>\n",
       "      <td>112.85000</td>\n",
       "    </tr>\n",
       "    <tr>\n",
       "      <th>50%</th>\n",
       "      <td>103.000000</td>\n",
       "      <td>33.000000</td>\n",
       "      <td>170.25000</td>\n",
       "    </tr>\n",
       "    <tr>\n",
       "      <th>75%</th>\n",
       "      <td>104.000000</td>\n",
       "      <td>41.000000</td>\n",
       "      <td>242.68750</td>\n",
       "    </tr>\n",
       "    <tr>\n",
       "      <th>max</th>\n",
       "      <td>105.000000</td>\n",
       "      <td>52.000000</td>\n",
       "      <td>310.75000</td>\n",
       "    </tr>\n",
       "  </tbody>\n",
       "</table>\n",
       "</div>"
      ],
      "text/plain": [
       "       customer_id        age  spent_usd\n",
       "count     5.000000   5.000000    4.00000\n",
       "mean    103.000000  36.400000  185.28750\n",
       "std       1.581139  10.212737  100.40251\n",
       "min     101.000000  28.000000   89.90000\n",
       "25%     102.000000  28.000000  112.85000\n",
       "50%     103.000000  33.000000  170.25000\n",
       "75%     104.000000  41.000000  242.68750\n",
       "max     105.000000  52.000000  310.75000"
      ]
     },
     "execution_count": 6,
     "metadata": {},
     "output_type": "execute_result"
    }
   ],
   "source": [
    "\n",
    "df.select_dtypes(include=\"number\").describe()"
   ]
  },
  {
   "cell_type": "code",
   "execution_count": 8,
   "id": "5a7e2a86",
   "metadata": {},
   "outputs": [
    {
     "data": {
      "text/plain": [
       "city\n",
       "Warsaw     2\n",
       "Krakow     1\n",
       "Gdansk     1\n",
       "Wroclaw    1\n",
       "Name: count, dtype: int64"
      ]
     },
     "execution_count": 8,
     "metadata": {},
     "output_type": "execute_result"
    }
   ],
   "source": [
    "df[\"city\"].value_counts()"
   ]
  },
  {
   "cell_type": "code",
   "execution_count": 9,
   "id": "8917dfd4",
   "metadata": {},
   "outputs": [
    {
     "data": {
      "text/plain": [
       "(np.int64(28), np.int64(52), np.float64(36.4))"
      ]
     },
     "execution_count": 9,
     "metadata": {},
     "output_type": "execute_result"
    }
   ],
   "source": [
    "df[\"age\"].min(), df[\"age\"].max(), df[\"age\"].mean()"
   ]
  },
  {
   "cell_type": "code",
   "execution_count": 10,
   "id": "26c53418",
   "metadata": {},
   "outputs": [
    {
     "data": {
      "text/plain": [
       "np.int64(1)"
      ]
     },
     "execution_count": 10,
     "metadata": {},
     "output_type": "execute_result"
    }
   ],
   "source": [
    "df[\"spent_usd\"].isna().sum()"
   ]
  },
  {
   "cell_type": "markdown",
   "id": "5ae3973e",
   "metadata": {},
   "source": [
    "Selekcja, filtrowanie, indeksy"
   ]
  },
  {
   "cell_type": "code",
   "execution_count": 12,
   "id": "435d5dbb",
   "metadata": {},
   "outputs": [
    {
     "data": {
      "text/plain": [
       "0    Ana\n",
       "1    Ben\n",
       "2    Cam\n",
       "3    Dor\n",
       "4    Eli\n",
       "Name: name, dtype: object"
      ]
     },
     "execution_count": 12,
     "metadata": {},
     "output_type": "execute_result"
    }
   ],
   "source": [
    "#Wybór kolumn i wierszy:\n",
    "df[\"name\"]\n",
    "\n"
   ]
  },
  {
   "cell_type": "code",
   "execution_count": 13,
   "id": "6e949aa8",
   "metadata": {},
   "outputs": [
    {
     "data": {
      "text/html": [
       "<div>\n",
       "<style scoped>\n",
       "    .dataframe tbody tr th:only-of-type {\n",
       "        vertical-align: middle;\n",
       "    }\n",
       "\n",
       "    .dataframe tbody tr th {\n",
       "        vertical-align: top;\n",
       "    }\n",
       "\n",
       "    .dataframe thead th {\n",
       "        text-align: right;\n",
       "    }\n",
       "</style>\n",
       "<table border=\"1\" class=\"dataframe\">\n",
       "  <thead>\n",
       "    <tr style=\"text-align: right;\">\n",
       "      <th></th>\n",
       "      <th>name</th>\n",
       "      <th>city</th>\n",
       "      <th>spent_usd</th>\n",
       "    </tr>\n",
       "  </thead>\n",
       "  <tbody>\n",
       "    <tr>\n",
       "      <th>0</th>\n",
       "      <td>Ana</td>\n",
       "      <td>Warsaw</td>\n",
       "      <td>120.50</td>\n",
       "    </tr>\n",
       "    <tr>\n",
       "      <th>1</th>\n",
       "      <td>Ben</td>\n",
       "      <td>Krakow</td>\n",
       "      <td>89.90</td>\n",
       "    </tr>\n",
       "    <tr>\n",
       "      <th>2</th>\n",
       "      <td>Cam</td>\n",
       "      <td>Gdansk</td>\n",
       "      <td>NaN</td>\n",
       "    </tr>\n",
       "    <tr>\n",
       "      <th>3</th>\n",
       "      <td>Dor</td>\n",
       "      <td>Warsaw</td>\n",
       "      <td>220.00</td>\n",
       "    </tr>\n",
       "    <tr>\n",
       "      <th>4</th>\n",
       "      <td>Eli</td>\n",
       "      <td>Wroclaw</td>\n",
       "      <td>310.75</td>\n",
       "    </tr>\n",
       "  </tbody>\n",
       "</table>\n",
       "</div>"
      ],
      "text/plain": [
       "  name     city  spent_usd\n",
       "0  Ana   Warsaw     120.50\n",
       "1  Ben   Krakow      89.90\n",
       "2  Cam   Gdansk        NaN\n",
       "3  Dor   Warsaw     220.00\n",
       "4  Eli  Wroclaw     310.75"
      ]
     },
     "execution_count": 13,
     "metadata": {},
     "output_type": "execute_result"
    }
   ],
   "source": [
    "df[[\"name\",\"city\",\"spent_usd\"]]\n"
   ]
  },
  {
   "cell_type": "code",
   "execution_count": 14,
   "id": "6a2bd134",
   "metadata": {},
   "outputs": [
    {
     "data": {
      "text/html": [
       "<div>\n",
       "<style scoped>\n",
       "    .dataframe tbody tr th:only-of-type {\n",
       "        vertical-align: middle;\n",
       "    }\n",
       "\n",
       "    .dataframe tbody tr th {\n",
       "        vertical-align: top;\n",
       "    }\n",
       "\n",
       "    .dataframe thead th {\n",
       "        text-align: right;\n",
       "    }\n",
       "</style>\n",
       "<table border=\"1\" class=\"dataframe\">\n",
       "  <thead>\n",
       "    <tr style=\"text-align: right;\">\n",
       "      <th></th>\n",
       "      <th>customer_id</th>\n",
       "      <th>name</th>\n",
       "    </tr>\n",
       "  </thead>\n",
       "  <tbody>\n",
       "    <tr>\n",
       "      <th>0</th>\n",
       "      <td>101</td>\n",
       "      <td>Ana</td>\n",
       "    </tr>\n",
       "    <tr>\n",
       "      <th>1</th>\n",
       "      <td>102</td>\n",
       "      <td>Ben</td>\n",
       "    </tr>\n",
       "    <tr>\n",
       "      <th>2</th>\n",
       "      <td>103</td>\n",
       "      <td>Cam</td>\n",
       "    </tr>\n",
       "  </tbody>\n",
       "</table>\n",
       "</div>"
      ],
      "text/plain": [
       "   customer_id name\n",
       "0          101  Ana\n",
       "1          102  Ben\n",
       "2          103  Cam"
      ]
     },
     "execution_count": 14,
     "metadata": {},
     "output_type": "execute_result"
    }
   ],
   "source": [
    "df.iloc[0:3, 0:2]       # po numerach\n"
   ]
  },
  {
   "cell_type": "code",
   "execution_count": 15,
   "id": "19697817",
   "metadata": {},
   "outputs": [
    {
     "data": {
      "text/html": [
       "<div>\n",
       "<style scoped>\n",
       "    .dataframe tbody tr th:only-of-type {\n",
       "        vertical-align: middle;\n",
       "    }\n",
       "\n",
       "    .dataframe tbody tr th {\n",
       "        vertical-align: top;\n",
       "    }\n",
       "\n",
       "    .dataframe thead th {\n",
       "        text-align: right;\n",
       "    }\n",
       "</style>\n",
       "<table border=\"1\" class=\"dataframe\">\n",
       "  <thead>\n",
       "    <tr style=\"text-align: right;\">\n",
       "      <th></th>\n",
       "      <th>name</th>\n",
       "      <th>spent_usd</th>\n",
       "    </tr>\n",
       "  </thead>\n",
       "  <tbody>\n",
       "    <tr>\n",
       "      <th>0</th>\n",
       "      <td>Ana</td>\n",
       "      <td>120.5</td>\n",
       "    </tr>\n",
       "    <tr>\n",
       "      <th>3</th>\n",
       "      <td>Dor</td>\n",
       "      <td>220.0</td>\n",
       "    </tr>\n",
       "  </tbody>\n",
       "</table>\n",
       "</div>"
      ],
      "text/plain": [
       "  name  spent_usd\n",
       "0  Ana      120.5\n",
       "3  Dor      220.0"
      ]
     },
     "execution_count": 15,
     "metadata": {},
     "output_type": "execute_result"
    }
   ],
   "source": [
    "df.loc[ df[\"city\"]==\"Warsaw\", [\"name\",\"spent_usd\"] ]"
   ]
  },
  {
   "cell_type": "code",
   "execution_count": 17,
   "id": "72902b9c",
   "metadata": {},
   "outputs": [
    {
     "data": {
      "text/plain": [
       "(   customer_id name  age    city  spent_usd   joined_at\n",
       " 0          101  Ana   28  Warsaw      120.5  2024-03-15\n",
       " 2          103  Cam   33  Gdansk        NaN  2024-01-08\n",
       " 3          104  Dor   28  Warsaw      220.0  2023-12-21,\n",
       "    customer_id name  age     city  spent_usd   joined_at\n",
       " 3          104  Dor   28   Warsaw     220.00  2023-12-21\n",
       " 4          105  Eli   52  Wroclaw     310.75  2022-07-30,\n",
       "    customer_id name  age    city  spent_usd   joined_at\n",
       " 0          101  Ana   28  Warsaw      120.5  2024-03-15\n",
       " 1          102  Ben   41  Krakow       89.9  2023-11-02\n",
       " 3          104  Dor   28  Warsaw      220.0  2023-12-21)"
      ]
     },
     "execution_count": 17,
     "metadata": {},
     "output_type": "execute_result"
    }
   ],
   "source": [
    "#Filtrowanie (maski logiczne):\n",
    "young = df[df[\"age\"] < 35]\n",
    "high_spenders = df[df[\"spent_usd\"] > 200]\n",
    "warsaw_or_krk = df[df[\"city\"].isin([\"Warsaw\",\"Krakow\"])]\n",
    "\n",
    "young, high_spenders, warsaw_or_krk\n"
   ]
  },
  {
   "cell_type": "code",
   "execution_count": 18,
   "id": "1b8d486a",
   "metadata": {},
   "outputs": [
    {
     "data": {
      "text/html": [
       "<div>\n",
       "<style scoped>\n",
       "    .dataframe tbody tr th:only-of-type {\n",
       "        vertical-align: middle;\n",
       "    }\n",
       "\n",
       "    .dataframe tbody tr th {\n",
       "        vertical-align: top;\n",
       "    }\n",
       "\n",
       "    .dataframe thead th {\n",
       "        text-align: right;\n",
       "    }\n",
       "</style>\n",
       "<table border=\"1\" class=\"dataframe\">\n",
       "  <thead>\n",
       "    <tr style=\"text-align: right;\">\n",
       "      <th></th>\n",
       "      <th>customer_id</th>\n",
       "      <th>name</th>\n",
       "      <th>age</th>\n",
       "      <th>city</th>\n",
       "      <th>spent_usd</th>\n",
       "      <th>joined_at</th>\n",
       "    </tr>\n",
       "  </thead>\n",
       "  <tbody>\n",
       "    <tr>\n",
       "      <th>0</th>\n",
       "      <td>101</td>\n",
       "      <td>Ana</td>\n",
       "      <td>28</td>\n",
       "      <td>Warsaw</td>\n",
       "      <td>120.5</td>\n",
       "      <td>2024-03-15</td>\n",
       "    </tr>\n",
       "    <tr>\n",
       "      <th>3</th>\n",
       "      <td>104</td>\n",
       "      <td>Dor</td>\n",
       "      <td>28</td>\n",
       "      <td>Warsaw</td>\n",
       "      <td>220.0</td>\n",
       "      <td>2023-12-21</td>\n",
       "    </tr>\n",
       "  </tbody>\n",
       "</table>\n",
       "</div>"
      ],
      "text/plain": [
       "   customer_id name  age    city  spent_usd   joined_at\n",
       "0          101  Ana   28  Warsaw      120.5  2024-03-15\n",
       "3          104  Dor   28  Warsaw      220.0  2023-12-21"
      ]
     },
     "execution_count": 18,
     "metadata": {},
     "output_type": "execute_result"
    }
   ],
   "source": [
    "#Warunki łączone:\n",
    "cond = (df[\"city\"]==\"Warsaw\") & (df[\"age\"]<30)\n",
    "df[cond]\n"
   ]
  },
  {
   "cell_type": "code",
   "execution_count": 24,
   "id": "b849a20d",
   "metadata": {},
   "outputs": [],
   "source": [
    "#Indeksy:\n",
    "df2 = df.set_index(\"customer_id\")\n",
    "df2.loc[104]           # szybki dostęp po kluczu\n",
    "df2.reset_index(inplace=True)\n",
    "\n"
   ]
  },
  {
   "cell_type": "code",
   "execution_count": 28,
   "id": "de2a5149",
   "metadata": {},
   "outputs": [
    {
     "data": {
      "text/plain": [
       "0    Ana\n",
       "3    Dor\n",
       "Name: name, dtype: object"
      ]
     },
     "execution_count": 28,
     "metadata": {},
     "output_type": "execute_result"
    }
   ],
   "source": [
    "#zad\n",
    "df3=df[(df[\"city\"]==\"Warsaw\") & (df[\"spent_usd\"]> 100)][\"name\"]\n",
    "df3"
   ]
  },
  {
   "cell_type": "markdown",
   "id": "68cf75ad",
   "metadata": {},
   "source": [
    "Proste transformacje: kolumny, typy, braki, sortowanie"
   ]
  },
  {
   "cell_type": "code",
   "execution_count": null,
   "id": "eaa4fb08",
   "metadata": {},
   "outputs": [
    {
     "data": {
      "text/html": [
       "<div>\n",
       "<style scoped>\n",
       "    .dataframe tbody tr th:only-of-type {\n",
       "        vertical-align: middle;\n",
       "    }\n",
       "\n",
       "    .dataframe tbody tr th {\n",
       "        vertical-align: top;\n",
       "    }\n",
       "\n",
       "    .dataframe thead th {\n",
       "        text-align: right;\n",
       "    }\n",
       "</style>\n",
       "<table border=\"1\" class=\"dataframe\">\n",
       "  <thead>\n",
       "    <tr style=\"text-align: right;\">\n",
       "      <th></th>\n",
       "      <th>customer_id</th>\n",
       "      <th>name</th>\n",
       "      <th>age</th>\n",
       "      <th>city</th>\n",
       "      <th>spent_usd</th>\n",
       "      <th>joined_at</th>\n",
       "      <th>spent_pln</th>\n",
       "      <th>name_upper</th>\n",
       "    </tr>\n",
       "  </thead>\n",
       "  <tbody>\n",
       "    <tr>\n",
       "      <th>0</th>\n",
       "      <td>101</td>\n",
       "      <td>Ana</td>\n",
       "      <td>28</td>\n",
       "      <td>Warsaw</td>\n",
       "      <td>120.50</td>\n",
       "      <td>2024-03-15</td>\n",
       "      <td>482.0</td>\n",
       "      <td>ANA</td>\n",
       "    </tr>\n",
       "    <tr>\n",
       "      <th>1</th>\n",
       "      <td>102</td>\n",
       "      <td>Ben</td>\n",
       "      <td>41</td>\n",
       "      <td>Krakow</td>\n",
       "      <td>89.90</td>\n",
       "      <td>2023-11-02</td>\n",
       "      <td>359.6</td>\n",
       "      <td>BEN</td>\n",
       "    </tr>\n",
       "    <tr>\n",
       "      <th>2</th>\n",
       "      <td>103</td>\n",
       "      <td>Cam</td>\n",
       "      <td>33</td>\n",
       "      <td>Gdansk</td>\n",
       "      <td>NaN</td>\n",
       "      <td>2024-01-08</td>\n",
       "      <td>NaN</td>\n",
       "      <td>CAM</td>\n",
       "    </tr>\n",
       "    <tr>\n",
       "      <th>3</th>\n",
       "      <td>104</td>\n",
       "      <td>Dor</td>\n",
       "      <td>28</td>\n",
       "      <td>Warsaw</td>\n",
       "      <td>220.00</td>\n",
       "      <td>2023-12-21</td>\n",
       "      <td>880.0</td>\n",
       "      <td>DOR</td>\n",
       "    </tr>\n",
       "    <tr>\n",
       "      <th>4</th>\n",
       "      <td>105</td>\n",
       "      <td>Eli</td>\n",
       "      <td>52</td>\n",
       "      <td>Wroclaw</td>\n",
       "      <td>310.75</td>\n",
       "      <td>2022-07-30</td>\n",
       "      <td>1243.0</td>\n",
       "      <td>ELI</td>\n",
       "    </tr>\n",
       "  </tbody>\n",
       "</table>\n",
       "</div>"
      ],
      "text/plain": [
       "   customer_id name  age     city  spent_usd   joined_at  spent_pln name_upper\n",
       "0          101  Ana   28   Warsaw     120.50  2024-03-15      482.0        ANA\n",
       "1          102  Ben   41   Krakow      89.90  2023-11-02      359.6        BEN\n",
       "2          103  Cam   33   Gdansk        NaN  2024-01-08        NaN        CAM\n",
       "3          104  Dor   28   Warsaw     220.00  2023-12-21      880.0        DOR\n",
       "4          105  Eli   52  Wroclaw     310.75  2022-07-30     1243.0        ELI"
      ]
     },
     "execution_count": 29,
     "metadata": {},
     "output_type": "execute_result"
    }
   ],
   "source": [
    "#nowe kolumny\n",
    "df[\"spent_pln\"] = df[\"spent_usd\"] * 4.0   # przyjmij kurs 4.0\n",
    "df[\"name_upper\"] = df[\"name\"].str.upper()\n",
    "df.head()"
   ]
  },
  {
   "cell_type": "code",
   "execution_count": 33,
   "id": "b110bfeb",
   "metadata": {},
   "outputs": [
    {
     "data": {
      "text/plain": [
       "customer_id             int64\n",
       "name                   object\n",
       "age                     int64\n",
       "city                   object\n",
       "spent_usd             float64\n",
       "joined_at      datetime64[ns]\n",
       "spent_pln             float64\n",
       "name_upper             object\n",
       "year_joined             int32\n",
       "dtype: object"
      ]
     },
     "execution_count": 33,
     "metadata": {},
     "output_type": "execute_result"
    }
   ],
   "source": [
    "#daty i typy\n",
    "df[\"joined_at\"] = pd.to_datetime(df[\"joined_at\"])\n",
    "df[\"year_joined\"] = df[\"joined_at\"].dt.year\n",
    "df[\"spent_usd\"] = pd.to_numeric(df[\"spent_usd\"], errors=\"coerce\")\n",
    "df.dtypes"
   ]
  },
  {
   "cell_type": "code",
   "execution_count": 35,
   "id": "a516a833",
   "metadata": {},
   "outputs": [
    {
     "data": {
      "text/plain": [
       "(5, 4)"
      ]
     },
     "execution_count": 35,
     "metadata": {},
     "output_type": "execute_result"
    }
   ],
   "source": [
    "#braki danych 2 startegie\n",
    "# strategia 1: podmień NaN średnią\n",
    "df[\"spent_usd_filled\"] = df[\"spent_usd\"].fillna(df[\"spent_usd\"].mean())\n",
    "# strategia 2: usuń wiersze bez spent_usd\n",
    "df_dropna = df.dropna(subset=[\"spent_usd\"])\n",
    "\n",
    "len(df), len(df_dropna)\n"
   ]
  },
  {
   "cell_type": "code",
   "execution_count": 36,
   "id": "005756d8",
   "metadata": {},
   "outputs": [
    {
     "data": {
      "text/html": [
       "<div>\n",
       "<style scoped>\n",
       "    .dataframe tbody tr th:only-of-type {\n",
       "        vertical-align: middle;\n",
       "    }\n",
       "\n",
       "    .dataframe tbody tr th {\n",
       "        vertical-align: top;\n",
       "    }\n",
       "\n",
       "    .dataframe thead th {\n",
       "        text-align: right;\n",
       "    }\n",
       "</style>\n",
       "<table border=\"1\" class=\"dataframe\">\n",
       "  <thead>\n",
       "    <tr style=\"text-align: right;\">\n",
       "      <th></th>\n",
       "      <th>customer_id</th>\n",
       "      <th>name</th>\n",
       "      <th>age</th>\n",
       "      <th>city</th>\n",
       "      <th>spent_usd</th>\n",
       "      <th>joined_at</th>\n",
       "      <th>spent_pln</th>\n",
       "      <th>name_upper</th>\n",
       "      <th>year_joined</th>\n",
       "      <th>spent_usd_filled</th>\n",
       "    </tr>\n",
       "  </thead>\n",
       "  <tbody>\n",
       "    <tr>\n",
       "      <th>4</th>\n",
       "      <td>105</td>\n",
       "      <td>Eli</td>\n",
       "      <td>52</td>\n",
       "      <td>Wroclaw</td>\n",
       "      <td>310.75</td>\n",
       "      <td>2022-07-30</td>\n",
       "      <td>1243.0</td>\n",
       "      <td>ELI</td>\n",
       "      <td>2022</td>\n",
       "      <td>310.7500</td>\n",
       "    </tr>\n",
       "    <tr>\n",
       "      <th>3</th>\n",
       "      <td>104</td>\n",
       "      <td>Dor</td>\n",
       "      <td>28</td>\n",
       "      <td>Warsaw</td>\n",
       "      <td>220.00</td>\n",
       "      <td>2023-12-21</td>\n",
       "      <td>880.0</td>\n",
       "      <td>DOR</td>\n",
       "      <td>2023</td>\n",
       "      <td>220.0000</td>\n",
       "    </tr>\n",
       "    <tr>\n",
       "      <th>2</th>\n",
       "      <td>103</td>\n",
       "      <td>Cam</td>\n",
       "      <td>33</td>\n",
       "      <td>Gdansk</td>\n",
       "      <td>NaN</td>\n",
       "      <td>2024-01-08</td>\n",
       "      <td>NaN</td>\n",
       "      <td>CAM</td>\n",
       "      <td>2024</td>\n",
       "      <td>185.2875</td>\n",
       "    </tr>\n",
       "  </tbody>\n",
       "</table>\n",
       "</div>"
      ],
      "text/plain": [
       "   customer_id name  age     city  spent_usd  joined_at  spent_pln name_upper  \\\n",
       "4          105  Eli   52  Wroclaw     310.75 2022-07-30     1243.0        ELI   \n",
       "3          104  Dor   28   Warsaw     220.00 2023-12-21      880.0        DOR   \n",
       "2          103  Cam   33   Gdansk        NaN 2024-01-08        NaN        CAM   \n",
       "\n",
       "   year_joined  spent_usd_filled  \n",
       "4         2022          310.7500  \n",
       "3         2023          220.0000  \n",
       "2         2024          185.2875  "
      ]
     },
     "execution_count": 36,
     "metadata": {},
     "output_type": "execute_result"
    }
   ],
   "source": [
    "#sortowanie i TOP\n",
    "df_sorted = df.sort_values(by=[\"spent_usd_filled\"], ascending=False)\n",
    "df_sorted.head(3)\n"
   ]
  },
  {
   "cell_type": "code",
   "execution_count": 37,
   "id": "25f9076f",
   "metadata": {},
   "outputs": [],
   "source": [
    "#zapis wyniku\n",
    "# jak potraktowalam braki i dlaczego\n",
    "df_sorted.to_csv(\"../data/customers_clean.csv\", index=False)\n"
   ]
  },
  {
   "cell_type": "markdown",
   "id": "6ae775ef",
   "metadata": {},
   "source": [
    "mini raport\n"
   ]
  },
  {
   "cell_type": "code",
   "execution_count": 38,
   "id": "26e0c790",
   "metadata": {},
   "outputs": [
    {
     "name": "stderr",
     "output_type": "stream",
     "text": [
      "C:\\Users\\dmdem\\AppData\\Local\\Temp\\ipykernel_11168\\2257663886.py:6: FutureWarning: The default of observed=False is deprecated and will be changed to True in a future version of pandas. Pass observed=False to retain current behavior or observed=True to adopt the future default and silence this warning.\n",
      "  df.groupby(\"age_bin\")[\"spent_usd_filled\"].mean()\n"
     ]
    },
    {
     "data": {
      "text/plain": [
       "age_bin\n",
       "<30      170.2500\n",
       "30-39    185.2875\n",
       "40-49     89.9000\n",
       "50+      310.7500\n",
       "Name: spent_usd_filled, dtype: float64"
      ]
     },
     "execution_count": 38,
     "metadata": {},
     "output_type": "execute_result"
    }
   ],
   "source": [
    "# średni wydatek per miasto\n",
    "city_avg = df_dropna.groupby(\"city\")[\"spent_usd\"].mean().sort_values(ascending=False)\n",
    "city_avg\n",
    "# rozkład wieku w koszykach\n",
    "df[\"age_bin\"] = pd.cut(df[\"age\"], bins=[0,29,39,49,120], labels=[\"<30\",\"30-39\",\"40-49\",\"50+\"])\n",
    "df.groupby(\"age_bin\")[\"spent_usd_filled\"].mean()\n"
   ]
  },
  {
   "cell_type": "code",
   "execution_count": 39,
   "id": "6eda964c",
   "metadata": {},
   "outputs": [
    {
     "ename": "ImportError",
     "evalue": "matplotlib is required for plotting when the default backend \"matplotlib\" is selected.",
     "output_type": "error",
     "traceback": [
      "\u001b[31m---------------------------------------------------------------------------\u001b[39m",
      "\u001b[31mImportError\u001b[39m                               Traceback (most recent call last)",
      "\u001b[36mCell\u001b[39m\u001b[36m \u001b[39m\u001b[32mIn[39]\u001b[39m\u001b[32m, line 1\u001b[39m\n\u001b[32m----> \u001b[39m\u001b[32m1\u001b[39m \u001b[43mcity_avg\u001b[49m\u001b[43m.\u001b[49m\u001b[43mplot\u001b[49m\u001b[43m(\u001b[49m\u001b[43mkind\u001b[49m\u001b[43m=\u001b[49m\u001b[33;43m\"\u001b[39;49m\u001b[33;43mbar\u001b[39;49m\u001b[33;43m\"\u001b[39;49m\u001b[43m,\u001b[49m\u001b[43m \u001b[49m\u001b[43mtitle\u001b[49m\u001b[43m=\u001b[49m\u001b[33;43m\"\u001b[39;49m\u001b[33;43mŚredni wydatek (USD) per miasto\u001b[39;49m\u001b[33;43m\"\u001b[39;49m\u001b[43m)\u001b[49m\n",
      "\u001b[36mFile \u001b[39m\u001b[32mc:\\Users\\dmdem\\Documents\\etl-streamlit\\day01_intro_pandas\\.venv\\Lib\\site-packages\\pandas\\plotting\\_core.py:947\u001b[39m, in \u001b[36mPlotAccessor.__call__\u001b[39m\u001b[34m(self, *args, **kwargs)\u001b[39m\n\u001b[32m    946\u001b[39m \u001b[38;5;28;01mdef\u001b[39;00m\u001b[38;5;250m \u001b[39m\u001b[34m__call__\u001b[39m(\u001b[38;5;28mself\u001b[39m, *args, **kwargs):\n\u001b[32m--> \u001b[39m\u001b[32m947\u001b[39m     plot_backend = \u001b[43m_get_plot_backend\u001b[49m\u001b[43m(\u001b[49m\u001b[43mkwargs\u001b[49m\u001b[43m.\u001b[49m\u001b[43mpop\u001b[49m\u001b[43m(\u001b[49m\u001b[33;43m\"\u001b[39;49m\u001b[33;43mbackend\u001b[39;49m\u001b[33;43m\"\u001b[39;49m\u001b[43m,\u001b[49m\u001b[43m \u001b[49m\u001b[38;5;28;43;01mNone\u001b[39;49;00m\u001b[43m)\u001b[49m\u001b[43m)\u001b[49m\n\u001b[32m    949\u001b[39m     x, y, kind, kwargs = \u001b[38;5;28mself\u001b[39m._get_call_args(\n\u001b[32m    950\u001b[39m         plot_backend.\u001b[34m__name__\u001b[39m, \u001b[38;5;28mself\u001b[39m._parent, args, kwargs\n\u001b[32m    951\u001b[39m     )\n\u001b[32m    953\u001b[39m     kind = \u001b[38;5;28mself\u001b[39m._kind_aliases.get(kind, kind)\n",
      "\u001b[36mFile \u001b[39m\u001b[32mc:\\Users\\dmdem\\Documents\\etl-streamlit\\day01_intro_pandas\\.venv\\Lib\\site-packages\\pandas\\plotting\\_core.py:1944\u001b[39m, in \u001b[36m_get_plot_backend\u001b[39m\u001b[34m(backend)\u001b[39m\n\u001b[32m   1941\u001b[39m \u001b[38;5;28;01mif\u001b[39;00m backend_str \u001b[38;5;129;01min\u001b[39;00m _backends:\n\u001b[32m   1942\u001b[39m     \u001b[38;5;28;01mreturn\u001b[39;00m _backends[backend_str]\n\u001b[32m-> \u001b[39m\u001b[32m1944\u001b[39m module = \u001b[43m_load_backend\u001b[49m\u001b[43m(\u001b[49m\u001b[43mbackend_str\u001b[49m\u001b[43m)\u001b[49m\n\u001b[32m   1945\u001b[39m _backends[backend_str] = module\n\u001b[32m   1946\u001b[39m \u001b[38;5;28;01mreturn\u001b[39;00m module\n",
      "\u001b[36mFile \u001b[39m\u001b[32mc:\\Users\\dmdem\\Documents\\etl-streamlit\\day01_intro_pandas\\.venv\\Lib\\site-packages\\pandas\\plotting\\_core.py:1874\u001b[39m, in \u001b[36m_load_backend\u001b[39m\u001b[34m(backend)\u001b[39m\n\u001b[32m   1872\u001b[39m         module = importlib.import_module(\u001b[33m\"\u001b[39m\u001b[33mpandas.plotting._matplotlib\u001b[39m\u001b[33m\"\u001b[39m)\n\u001b[32m   1873\u001b[39m     \u001b[38;5;28;01mexcept\u001b[39;00m \u001b[38;5;167;01mImportError\u001b[39;00m:\n\u001b[32m-> \u001b[39m\u001b[32m1874\u001b[39m         \u001b[38;5;28;01mraise\u001b[39;00m \u001b[38;5;167;01mImportError\u001b[39;00m(\n\u001b[32m   1875\u001b[39m             \u001b[33m\"\u001b[39m\u001b[33mmatplotlib is required for plotting when the \u001b[39m\u001b[33m\"\u001b[39m\n\u001b[32m   1876\u001b[39m             \u001b[33m'\u001b[39m\u001b[33mdefault backend \u001b[39m\u001b[33m\"\u001b[39m\u001b[33mmatplotlib\u001b[39m\u001b[33m\"\u001b[39m\u001b[33m is selected.\u001b[39m\u001b[33m'\u001b[39m\n\u001b[32m   1877\u001b[39m         ) \u001b[38;5;28;01mfrom\u001b[39;00m\u001b[38;5;250m \u001b[39m\u001b[38;5;28;01mNone\u001b[39;00m\n\u001b[32m   1878\u001b[39m     \u001b[38;5;28;01mreturn\u001b[39;00m module\n\u001b[32m   1880\u001b[39m found_backend = \u001b[38;5;28;01mFalse\u001b[39;00m\n",
      "\u001b[31mImportError\u001b[39m: matplotlib is required for plotting when the default backend \"matplotlib\" is selected."
     ]
    }
   ],
   "source": [
    "city_avg.plot(kind=\"bar\", title=\"Średni wydatek (USD) per miasto\")\n"
   ]
  },
  {
   "cell_type": "code",
   "execution_count": 40,
   "id": "fcd7046a",
   "metadata": {},
   "outputs": [],
   "source": [
    "#zapisz wyniki\n",
    "city_avg.to_csv(\"../data/city_avg.csv\")\n",
    "df.to_csv(\"../data/customers_enriched.csv\", index=False)\n"
   ]
  },
  {
   "cell_type": "markdown",
   "id": "fbeef075",
   "metadata": {},
   "source": [
    "Notatka – analiza danych z `customers.csv`\n",
    "\n",
    "Podczas wczytywania pliku `customers.csv` zauważyłam, że w kolumnach `age` oraz `spent_usd` występowały braki danych. Potraktowałam je poprzez konwersję wartości na typ liczbowy (`to_numeric`) i ustawienie błędnych lub pustych wpisów na `NaN`. Dzięki temu możliwe było ich łatwe zliczenie\n",
    "zliczenie i ewentualne dalsze przetwarzanie. Wartości `NaN` zostały pozostawione w zbiorze, aby nie wprowadzać sztucznych danych i móc ocenić skalę braków. Sprawdziłam również wartości minimalne, maksymalne i średnie w kolumnach `age` oraz `spent_usd`. Braki w danych nie były na tyle duże, by uniemożliwić analizę, ale mogą wpływać na średnie i inn\n",
    "inne miary. Dla dalszych analiz można rozważyć imputację wartości (np. średnią lub medianą) lub usunięcie rekordów z brakami.\n",
    "Wnioski:**  \n",
    "1. Dane zawierają pewne braki, głównie w kolumnach liczbowych, ale ich skala jest umiarkowana.  \n",
    "2. Zachowanie `NaN` pozwala na transparentną analizę i uniknięcie wprowadzania błędnych założeń.  \n",
    "3. Kolejne kroki analizy powinny uwzględniać wpływ braków na wyniki statystyczne i modele predykcyjne.\n",
    "\n",
    "\n"
   ]
  }
 ],
 "metadata": {
  "kernelspec": {
   "display_name": ".venv",
   "language": "python",
   "name": "python3"
  },
  "language_info": {
   "codemirror_mode": {
    "name": "ipython",
    "version": 3
   },
   "file_extension": ".py",
   "mimetype": "text/x-python",
   "name": "python",
   "nbconvert_exporter": "python",
   "pygments_lexer": "ipython3",
   "version": "3.13.7"
  }
 },
 "nbformat": 4,
 "nbformat_minor": 5
}
